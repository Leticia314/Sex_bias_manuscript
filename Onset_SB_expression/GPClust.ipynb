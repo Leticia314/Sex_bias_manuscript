{
 "cells": [
  {
   "cell_type": "markdown",
   "metadata": {},
   "source": [
    "Clustering Temporal Gene Expression Profiles in Evo-Devo-Data \n"
   ]
  },
  {
   "cell_type": "code",
   "execution_count": 7,
   "metadata": {
    "collapsed": false,
    "scrolled": true
   },
   "outputs": [
    {
     "name": "stdout",
     "output_type": "stream",
     "text": [
      "Loaded backend module://matplotlib_inline.backend_inline version unknown.\n"
     ]
    }
   ],
   "source": [
    "%matplotlib inline\n",
    "%config InlineBackend.figure_format = 'png'#'svg' would be better, but eats memory for these big plots.\n",
    "from matplotlib import pyplot as plt\n",
    "import numpy as np\n",
    "import GPy\n",
    "import sys\n",
    "import os\n",
    "import pandas as pd\n",
    "sys.path.append('/Users/agkaessmann/Desktop/Gp_clust/')\n",
    "import GPclust"
   ]
  },
  {
   "cell_type": "code",
   "execution_count": 8,
   "metadata": {
    "collapsed": false
   },
   "outputs": [],
   "source": [
    "nameAnalysis= # Name of analysis\n",
    "today= # Date\n",
    "outdir= # Output directory\n",
    "if not os.path.exists(outdir):\n",
    "    os.makedirs(outdir)"
   ]
  },
  {
   "cell_type": "code",
   "execution_count": null,
   "metadata": {
    "collapsed": false
   },
   "outputs": [],
   "source": [
    "# read in as dataframes\n",
    "expression = pd.read_csv('/Users/agkaessmann/Desktop/Gp_clust/010422_Mouse_liver.txt', delimiter=\"\\t\", header=0, index_col=0) # Expression data (in our case fold difference)\n",
    "times = pd.read_csv('/Users/agkaessmann/Desktop/Gp_clust/Times4Brain.txt', delimiter=\"\\t\", header=0, index_col=0) # File with time points\n",
    "\n",
    "#get gene names\n",
    "gene_names = expression.index.values\n",
    "# turn to matrix\n",
    "times = times.values\n",
    "\n",
    "expression= expression.values\n",
    "#control dimensions\n",
    "print(expression.shape)\n",
    "print(times.shape)\n",
    "print(times.T)"
   ]
  },
  {
   "cell_type": "markdown",
   "metadata": {},
   "source": [
    "First step: Standardize Gene-wise"
   ]
  },
  {
   "cell_type": "code",
   "execution_count": null,
   "metadata": {
    "collapsed": false
   },
   "outputs": [],
   "source": [
    "expression -= expression.mean(1)[:,np.newaxis]\n",
    "expression /= expression.std(1)[:,np.newaxis]"
   ]
  },
  {
   "cell_type": "code",
   "execution_count": null,
   "metadata": {
    "collapsed": false,
    "scrolled": true
   },
   "outputs": [],
   "source": [
    "plt.plot(times,expression[4,:] , 'ro')"
   ]
  },
  {
   "cell_type": "code",
   "execution_count": 15,
   "metadata": {
    "collapsed": false
   },
   "outputs": [],
   "source": [
    "k_underlying = GPy.kern.Matern52(input_dim=1, variance=1.0, lengthscale=7.)\n",
    "k1=GPy.kern.Matern52(input_dim=1, variance=0.1, lengthscale=7.)\n",
    "k2=GPy.kern.White(1, variance=0.3)\n",
    "#avoid under-estimating (non-structured noise)\n",
    "k2.variance.fix(0.5)\n",
    "k_corruption = k1+ k2\n"
   ]
  },
  {
   "cell_type": "code",
   "execution_count": 16,
   "metadata": {
    "collapsed": false
   },
   "outputs": [],
   "source": [
    "m = GPclust.MOHGP(times, k_underlying, k_corruption, expression, K=20, prior_Z='DP', alpha=1e-6)\n",
    "#m.kernF.lengthscale.fix(6)"
   ]
  },
  {
   "cell_type": "code",
   "execution_count": null,
   "metadata": {
    "collapsed": false
   },
   "outputs": [],
   "source": [
    "m.hyperparam_opt_interval = 100 # how often to optimize the hyperparameters\n",
    "m.hyperparam_opt_args['messages'] = True # turn off the printing of the optimization\n",
    "m.optimize()\n",
    "m.systematic_splits(verbose=True)"
   ]
  },
  {
   "cell_type": "markdown",
   "metadata": {},
   "source": [
    "Converged?"
   ]
  },
  {
   "cell_type": "code",
   "execution_count": null,
   "metadata": {
    "collapsed": false
   },
   "outputs": [],
   "source": [
    "m.reorder()# plot the biggest clusters at the top\n",
    "plt.figure(figsize=(20,20))\n",
    "m.plot(on_subplots=True, colour=True, in_a_row=False, newfig=False, min_in_cluster=1, joined=False, ylim=(-4,4), data_in_replicate=False)\n",
    "\n",
    "plt.savefig(outdir+\"/Clusters\"+nameAnalysis+'.png')"
   ]
  },
  {
   "cell_type": "markdown",
   "metadata": {},
   "source": [
    "We can also inspect the optimized values of the kernel parameters"
   ]
  },
  {
   "cell_type": "code",
   "execution_count": null,
   "metadata": {
    "collapsed": false
   },
   "outputs": [],
   "source": [
    "print (m)"
   ]
  },
  {
   "cell_type": "markdown",
   "metadata": {},
   "source": [
    "Get posterior probability of assiging nth gene to kth cluster?\n",
    "\n",
    "Is it possible to specify the number of clusters wanted?"
   ]
  },
  {
   "cell_type": "code",
   "execution_count": null,
   "metadata": {
    "collapsed": false
   },
   "outputs": [],
   "source": [
    "m.phi.shape\n",
    "noClusters=m.phi.shape[1]\n",
    "noGenes=m.phi.shape[0]\n",
    "print(noClusters)"
   ]
  },
  {
   "cell_type": "markdown",
   "metadata": {},
   "source": [
    "Posterior Mean"
   ]
  },
  {
   "cell_type": "code",
   "execution_count": null,
   "metadata": {
    "collapsed": false
   },
   "outputs": [],
   "source": [
    "print(m.muk.shape)\n",
    "plt.plot(times,m.muk[:,1])\n",
    "PostMean=pd.DataFrame(m.muk)\n",
    "PostMean.to_csv(outdir+\"/PostMean_\"+nameAnalysis+\".csv\")"
   ]
  },
  {
   "cell_type": "markdown",
   "metadata": {},
   "source": [
    "Posterior Variance"
   ]
  },
  {
   "cell_type": "code",
   "execution_count": null,
   "metadata": {
    "collapsed": false
   },
   "outputs": [],
   "source": [
    "m.Cs[1]"
   ]
  },
  {
   "cell_type": "markdown",
   "metadata": {},
   "source": [
    "Create Dataframe with rows =genes and columns=membership probability and export as csv."
   ]
  },
  {
   "cell_type": "code",
   "execution_count": null,
   "metadata": {
    "collapsed": true
   },
   "outputs": [],
   "source": [
    "for i in range(noClusters):\n",
    "    PostMean=pd.DataFrame(m.Lambda_inv[i])\n",
    "    PostMean.to_csv(outdir+\"/PostCov_\"+str(i+1)+nameAnalysis+\".csv\")"
   ]
  },
  {
   "cell_type": "code",
   "execution_count": null,
   "metadata": {
    "collapsed": false
   },
   "outputs": [],
   "source": [
    "ClusterProb=pd.DataFrame(m.phi, index= gene_names)\n",
    "ClusterProb.to_csv(outdir+\"/ClusterPobabilities_\"+nameAnalysis+\".csv\")"
   ]
  },
  {
   "cell_type": "markdown",
   "metadata": {},
   "source": [
    "Have a look at some of the genes"
   ]
  },
  {
   "cell_type": "code",
   "execution_count": null,
   "metadata": {
    "collapsed": false
   },
   "outputs": [],
   "source": [
    "plt.plot(times,expression[2,:] , 'ro')\n",
    "np.argmax(m.phi[2,:])"
   ]
  },
  {
   "cell_type": "code",
   "execution_count": null,
   "metadata": {
    "collapsed": false
   },
   "outputs": [],
   "source": [
    "plt.plot(times,expression[1,:] , 'ro')\n",
    "np.argmax(m.phi[1,:])"
   ]
  },
  {
   "cell_type": "code",
   "execution_count": null,
   "metadata": {
    "collapsed": false
   },
   "outputs": [],
   "source": [
    "plt.plot(times,expression[2,:] , 'ro')\n",
    "np.argmax(m.phi[2,:])"
   ]
  },
  {
   "cell_type": "markdown",
   "metadata": {},
   "source": [
    "Genes assigned to each cluster"
   ]
  },
  {
   "cell_type": "code",
   "execution_count": null,
   "metadata": {
    "collapsed": false,
    "scrolled": true
   },
   "outputs": [],
   "source": [
    "ClusterAss=[]\n",
    "for i in range(noClusters):\n",
    "    print(\"\\n Gene with highest probability to be in Cluster \"+str(i)+\" are\")\n",
    "    for j in range(noGenes): \n",
    "        if np.argmax(m.phi[j,:])==i:\n",
    "                    print(gene_names[j],j)\n",
    "        ClusterAss.append(np.argmax(m.phi[j,:]))\n",
    "        #print(ClusterAss[j],gene_names[j],j)\n"
   ]
  },
  {
   "cell_type": "code",
   "execution_count": null,
   "metadata": {
    "collapsed": true
   },
   "outputs": [],
   "source": []
  },
  {
   "cell_type": "code",
   "execution_count": null,
   "metadata": {
    "collapsed": true
   },
   "outputs": [],
   "source": []
  },
  {
   "cell_type": "code",
   "execution_count": null,
   "metadata": {
    "collapsed": true
   },
   "outputs": [],
   "source": []
  }
 ],
 "metadata": {
  "kernelspec": {
   "display_name": "Python 3",
   "language": "python",
   "name": "python3"
  },
  "language_info": {
   "codemirror_mode": {
    "name": "ipython",
    "version": 3
   },
   "file_extension": ".py",
   "mimetype": "text/x-python",
   "name": "python",
   "nbconvert_exporter": "python",
   "pygments_lexer": "ipython3",
   "version": "3.8.2"
  },
  "widgets": {
   "state": {
    "06d943a9c1064d119cca109338f31a73": {
     "views": [
      {
       "cell_index": 9
      }
     ]
    },
    "07ac42d73c084c28a82ea164418f2e7e": {
     "views": [
      {
       "cell_index": 9
      }
     ]
    },
    "0a8a462f7b5e418ca9700a148df69c33": {
     "views": [
      {
       "cell_index": 9
      }
     ]
    },
    "12aea87e7f0f4a6e8c9c7e63daea5303": {
     "views": [
      {
       "cell_index": 9
      }
     ]
    },
    "1b74414b3e5d43e3a5e1052390f7aa5a": {
     "views": [
      {
       "cell_index": 9
      }
     ]
    },
    "220a25228b3048d6b2af6548de090247": {
     "views": [
      {
       "cell_index": 9
      }
     ]
    },
    "4465f10ebb7044d1b75777d883965cff": {
     "views": [
      {
       "cell_index": 9
      }
     ]
    },
    "45bb58b536fb4221a28ab294af3b8b39": {
     "views": [
      {
       "cell_index": 9
      }
     ]
    },
    "9d5b6eb0475a4e869ae5c744c92ed178": {
     "views": [
      {
       "cell_index": 9
      }
     ]
    },
    "b45564460ed74242acdb24d3683ae71e": {
     "views": [
      {
       "cell_index": 9
      }
     ]
    },
    "c09d2677fc6d49eba899a1be2b275f7e": {
     "views": [
      {
       "cell_index": 9
      }
     ]
    },
    "d70b1997576f4d308b36dfd277e0e967": {
     "views": [
      {
       "cell_index": 9
      }
     ]
    },
    "d991e708a6774069b3afae25b0072ca4": {
     "views": [
      {
       "cell_index": 9
      }
     ]
    },
    "fe10927dd9bf40a6beee212238cb5628": {
     "views": [
      {
       "cell_index": 9
      }
     ]
    }
   },
   "version": "1.2.0"
  }
 },
 "nbformat": 4,
 "nbformat_minor": 0
}
